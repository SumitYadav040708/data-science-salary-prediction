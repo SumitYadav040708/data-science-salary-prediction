{
 "cells": [
  {
   "cell_type": "code",
   "execution_count": 31,
   "id": "591a376e",
   "metadata": {},
   "outputs": [
    {
     "name": "stdout",
     "output_type": "stream",
     "text": [
      "MAE: 39707.20703125\n",
      "R² Score: 0.35452592372894287\n",
      "✅ Model and feature columns saved to ../Model/\n"
     ]
    }
   ],
   "source": [
    "# Model/train_model.py\n",
    "\n",
    "import pandas as pd\n",
    "from sklearn.model_selection import train_test_split\n",
    "from sklearn.metrics import mean_absolute_error, r2_score\n",
    "from xgboost import XGBRegressor\n",
    "import joblib\n",
    "\n",
    "# 1. Load dataset\n",
    "df = pd.read_csv('../Data/ds_salaries.csv')\n",
    "df.drop_duplicates(inplace=True)\n",
    "\n",
    "# 2. Label encoding for specific columns\n",
    "experience_map = {'EN': 0, 'MI': 1, 'SE': 2, 'EX': 3}\n",
    "employment_map = {'PT': 0, 'FT': 1, 'CT': 2, 'FL': 3}\n",
    "size_map       = {'S': 0, 'M': 1, 'L': 2}\n",
    "\n",
    "df['experience_level'] = df['experience_level'].map(experience_map)\n",
    "df['employment_type']  = df['employment_type'].map(employment_map)\n",
    "df['company_size']     = df['company_size'].map(size_map)\n",
    "\n",
    "# 3. Remove unnecessary columns\n",
    "df.drop(['salary_currency', 'salary', 'work_year'], axis=1, inplace=True, errors='ignore')\n",
    "df.rename(columns={'salary_in_usd': 'salary'}, inplace=True)\n",
    "\n",
    "# 4. Extra feature\n",
    "df['same_country'] = (df['company_location'] == df['employee_residence']).astype(int)\n",
    "\n",
    "# 5. One-hot encode remaining categoricals\n",
    "df = pd.get_dummies(df, columns=['job_title', 'company_location', 'employee_residence'], drop_first=True)\n",
    "\n",
    "# 6. Store final columns for app compatibility\n",
    "feature_columns = df.drop('salary', axis=1).columns.tolist()\n",
    "\n",
    "# 7. Define X and y\n",
    "X = df[feature_columns]\n",
    "y = df['salary']\n",
    "\n",
    "# 8. Train-test split\n",
    "X_train, X_test, y_train, y_test = train_test_split(X, y, test_size=0.2, random_state=42)\n",
    "\n",
    "# 9. Train the model\n",
    "model = XGBRegressor(\n",
    "    n_estimators=300,\n",
    "    learning_rate=0.08,\n",
    "    max_depth=6,\n",
    "    subsample=0.8,\n",
    "    colsample_bytree=0.8,\n",
    "    random_state=42\n",
    ")\n",
    "model.fit(X_train, y_train)\n",
    "\n",
    "# 10. Evaluation\n",
    "y_pred = model.predict(X_test)\n",
    "print(\"MAE:\", mean_absolute_error(y_test, y_pred))\n",
    "print(\"R² Score:\", r2_score(y_test, y_pred))\n",
    "\n",
    "# 11. Save the model and features\n",
    "joblib.dump(model, '../Model/model.pkl')\n",
    "joblib.dump(feature_columns, '../Model/feature_columns.pkl')\n",
    "print(\"✅ Model and feature columns saved to ../Model/\")\n"
   ]
  },
  {
   "cell_type": "code",
   "execution_count": null,
   "id": "b4a0404f",
   "metadata": {},
   "outputs": [],
   "source": []
  }
 ],
 "metadata": {
  "kernelspec": {
   "display_name": "Python 3",
   "language": "python",
   "name": "python3"
  },
  "language_info": {
   "codemirror_mode": {
    "name": "ipython",
    "version": 3
   },
   "file_extension": ".py",
   "mimetype": "text/x-python",
   "name": "python",
   "nbconvert_exporter": "python",
   "pygments_lexer": "ipython3",
   "version": "3.13.2"
  }
 },
 "nbformat": 4,
 "nbformat_minor": 5
}
